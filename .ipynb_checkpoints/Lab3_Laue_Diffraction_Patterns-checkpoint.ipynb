{
 "cells": [
  {
   "cell_type": "markdown",
   "metadata": {},
   "source": [
    "&copy; Bedzyk Research Group 2020, Northwestern University"
   ]
  },
  {
   "cell_type": "markdown",
   "metadata": {},
   "source": [
    "<div class=\"alert alert-block alert-warning\">\n",
    "To start this project, in the top menu bar click $\\text{Cell}\\to \\text{ Run All}$. Then, scroll back up to the top of this document.\n",
    "</div>"
   ]
  },
  {
   "cell_type": "markdown",
   "metadata": {},
   "source": [
    "<div align=\"center\"><br>\n",
    "<font size=\"12\" color=\"#990000\"><b> Lab 3: Laue Diffraction Patterns </b></font>\n",
    "</div>\n",
    "\n",
    "*Reading: Cullity 16-1, 16-2, 2-13. Hammond 12.1, 12.2, 12.3*\n",
    "\n",
    "## Lab Summary\n",
    "You will use the Laue Back Scattering technique to determine the crystallographic orientation of a single crystal. Then you will re-orient the crystal to a different plane. \n",
    "\n",
    "### Introduction: \n",
    "The Laue method records the x-ray diffraction pattern on a CCD camera, image plate or photographic film. The Back Reflection Laue technique is for high x-ray absorbing samples at diffraction angles $2\\theta$ between $120°$ and $180°$. The Front Reflection Laue method is used for $0° \\leq 2 \\theta \\leq 60°$ but is suitable only with low absorbing samples like polymers.\n",
    "\n",
    "While Laue methods are used for several purposes, one of the most important is to determine the orientation of single crystals. Well-grown crystals have habits (shapes or facets) that indicate the symmetry possessed by the lattice on which the crystal was \"constructed\". But if a crystal is poorly formed or was made in such a way that facet development is prevented, x-rays can be used to determine the presence and orientation of planes within a crystal using Bragg Diffraction. Bragg Diffraction or Bragg Scattering only occurs when: \n",
    "\n",
    "1. The Bragg condition is satisfied,\n",
    "\\begin{equation*}\n",
    "n\\lambda = 2d_{hkl}sin(\\theta)\n",
    "\\end{equation*}\n",
    "\n",
    "<FIGURE> \n",
    "   <img src=\"images/lab3_fig1.png\" width=700/><br>\n",
    "   <FIGCAPTION><center>**Fig. 1**:<i>Schematics for Back and Front Reflection Laue modes.</i></center></FIGCAPTION>\n",
    "</FIGURE>\n",
    "\n",
    "<br>\n",
    "2. $r_{hkl}$, the normal to a plane $hkl$, bisects the incident and diffracted x-rays. This is shown in the figure above.\n",
    "\n",
    "Crystals have many planes of atoms with different values of $d_{hkl}$. To insure that the Bragg condition will be satisfied for many of these, a large range of $\\lambda$’s are supplied by the white or Bremsstrahlung radiation of the x-ray tube. Generally Mo or W anode x-ray tubes are used for Laue because of the greater white component to their spectrum at lower operating voltages but any target material (e.g. Cu, Cr, etc.) is suitable.\n",
    "\n",
    "The incident x-rays are collimated into a beam, pass through a hole in the film holder, and strike the sample. X-rays backscatter onto the film where the pattern is recorded. The sample is mounted on a **goniostat**, a device that permits the rotation of the sample about its horizontal and vertical axes. \n",
    "\n",
    "<FIGURE> \n",
    "   <img src=\"images/lab3_fig2.png\" width=700/><br>\n",
    "   <FIGCAPTION><center>**Fig. 2**:<i>Schematics for Back and Front Reflection Laue modes.</i></center></FIGCAPTION>\n",
    "</FIGURE>\n",
    "\n",
    "The position of a diffraction spot enables us to determine the direction of  $r_{hkl}$, if we remember that $r_{hkl}$ bisects $\\vec{S_o}$ (the incident beam direction) and $\\vec{S}$ (the scattered beam direction).\n",
    "\n",
    "\n",
    "### Experimental Procedure \n",
    "With both goniostat axes set to 0.0°, record a back reflection Laue pattern of the MgO crystal. Your instructor will give you recommended voltage, current, and exposure times. Note the symmetry apparent in the diffraction pattern. Given that MgO has the sodium chloride crystal structure, which pole (plane normal) is nearly parallel to the x-ray beam? \n",
    "\n",
    "With the assistance of your instructor, locate **six** zones and label them as 1,2,3 etc. Measure the position of each zone using the Greninger Chart. The Greninger Chart is a device that saves tedious trigonometric calculations, allowing you to read directly the latitude ($\\gamma°$) and longitude ($\\delta°$) of individual poles. We will further simplify the work by measuring $\\gamma°$ for an entire zone of poles simply by rotating $\\epsilon°$ (the Greninger Chart) and aligning $\\gamma°$. Make a table of $\\epsilon°$, its direction(CW/CCW), and $\\gamma°$. For accuracy, read all angles to the nearest 1/2°. \n",
    "\n",
    "To Plot: Orientate the Wulff Net with NS axis **horizontal** to make tracing easier. You need to rotate the Wulff Net the same direction as the Greninger Chart to plot the zones. However, the Wulff Net will be remaining stationary and you will be rotating the tracing paper. Therefore, you need to rotate the tracing paper in the **opposite** direction that you rotated the Greninger Chart. Plot zones as great circles.\n",
    "\n",
    "Now measure the interplanar angles between zones simply by placing two poles (intersecting zones) on the same great circle and measuring the angle between them. Index all intersecting zones with this technique referring to the table of inter-axial angles for cubic crystals provided in lab. Note: If you cannot match a pole, label it with a “?”. Bad guesses will be graded as incorrect. When you finish, you should find at least one pole to be a {111} or {110}. Reorientate the sample to one of these reflections by adjusting the goniostat arcs. Record the diffraction pattern and note the symmetry. \n",
    "\n",
    "**Report**: Provide the experimental conditions: x-ray tube anode material, voltage, current, exposure times, beam size, and sample to camera image plane distance. Attach both photographs, table of zones with g, e, CW/CCW, and goniostat setting for the second photo. Lastly, index your stereographic projection using a standard projection (Cullity fig 2-40.)\n",
    "\n"
   ]
  },
  {
   "cell_type": "markdown",
   "metadata": {},
   "source": [
    "## Experimental Procedure\n",
    "\n",
    "### In the X-Ray Facility\n",
    "\n",
    "### Analysis\n",
    "#### Part 1: Reading the Laue Diffraction Pattern\n",
    "1.\tAdjust the size of the diffraction pattern. This should be done on the Laue computer.\n",
    "2.\tOpen the Powerpoint file. \n",
    "3.\tPaste the diffraction pattern and the Greninger chart on one slide. \n",
    "    * Align the centers of the diffraction pattern and the Greninger chart by selecting both images while holding the Ctrl button (or ⌘+click for Mac OS). On the **Home** tab, go to the **Drawing** toolbar and click on **Arrange** &rarr; **Align** &rarr; **Align Center**.\n",
    "4. \n",
    "<img style=\"float: right;\" src=\"whatever.jpg\">\n"
   ]
  },
  {
   "cell_type": "code",
   "execution_count": null,
   "metadata": {},
   "outputs": [],
   "source": []
  },
  {
   "cell_type": "code",
   "execution_count": null,
   "metadata": {},
   "outputs": [],
   "source": []
  },
  {
   "cell_type": "markdown",
   "metadata": {},
   "source": [
    "\n",
    "\n",
    "\n",
    "\n",
    "\n",
    "# Overview of the technique\n",
    "\n",
    "In the X-ray reflectivity (XRR) measurement of Lab 1 you scanned along the low-Q end of the specular rod in reciprocal space to determine the film thickness, density and interface roughnesses. Here in Lab 2 you will continue to scan along this same specular rod but at a higher Q range that covers the Bragg peaks from the substrate and film. These are for reciprocal space vectors <strong>G</strong><sub>hkl</sub> that are nominally perpendicular to the surface. Because these features are narrower in reciprocal space you need to measure with higher Q resolution.(i.e., Smaller wavelength spread and smaller angular divergence of the incident beam.)  To achieve this we inserted a Ge(220) 2-bounce channel-cut monochromator crystal on the incident beam arm in the position previously occupied by the soller slit. See diagram below. This monochromator only passes Cu K$\\alpha_1$ radiation (and not K$\\alpha_2$). You will use this so-called High-Resolution X-ray Diffraction (HRXRD) method to investigate the out-of-plane registry of the epitaxial film lattice with respect to the single crystal substrate lattice. The cost of higher resolution is lower intensity for the incident beam.\n",
    "<div align=\"center\">\n",
    "<FIGURE> \n",
    "   <img src=\"images/Fig1_HXRD_SmartLab_v2.png\" />\n",
    "   <FIGCAPTION> <b>Fig. 1:</b> <i> SmartLab Diffractometer with Ge (220) 2-bounce monochromator option inserted to increase the resolution. \n",
    "</FIGURE>\n",
    "</div>\n",
    "\n",
    "Your substrate is a 10 x 10 x 0.5 mm c-plane sapphire $\\alpha$-Al$_2$O$_3$(001) single crystal. The PLD grown film will be  $\\alpha$-Fe$_2$O$_3$ or Pt with a thickness between 10 and 100 nm.  It will be the same sample you studied in Lab1. HRXRD will allow you to determine the  film's crystallinity (single crystal or textured polycrystalline), out-of-plane lattice constant and single crystal domain size. More specifically for your case, HRXRD  shows whether or not the hexagonal basal planes of the film are parallel to the basal $c$-planes of the substrate.  Prior to starting the HRXRD experiment, you should have used CrystalMaker and SingleCrystal to study the crystal structures of the substrate and film and determined what you expect for the alignment of the film's crystallographic hkl direction with the substrate crystal c-axis, and what are the d-spacings ( and Bragg angles) for the first allowed reflections along surface normal direction for both the substrate and film;  a\n",
    "    nd do the same for the 2nd order Bragg peaks.\n",
    "    \n",
    "\n",
    "In this lab you will perform 2 types of scans:\n",
    "\n",
    "1. $2\\theta$/$\\omega$ scan (also referred to as a radial scan or longitudinal scan in reciprocal space where you are scanning along Q<sub>⊥</sub> direction): This is a <strong>coupled scan</strong>, with the incident beam arm and detector arm rotating with equal steps in opposite directions.(For a positive 2° step in 2$\\theta$ the incident arm rotates   1° clockwise and the detector arm rotates  1° counterclockwise.) Remember that the SmartLab keeps the sample fixed in a horizontal position during these scans. The diffraction peak positions will obey Bragg's Law. The instrument resolution of this scan can be determined from the width of the substrate Bragg peak. The width of the film's Bragg peak is used to determine the single crystal domain size of the film. Compare this to what you found for the film thickness in your Lab 1 XRR measurement.\n",
    "\n",
    "\n",
    "2. $\\omega$ scan (also referred to as a transverse scan in reciprocal space): The incident beam arm and detector arm rotate with equal steps in the same direction with 2$\\theta$  <strong>fixed</strong> at the Bragg condition. This is also know as a <strong>Rocking Curve</strong> (RC) scan. The $\\Delta$$\\omega$ instrument resolution of this scan is determined from the width of the substrate Bragg peak RC. The film's RC width has contributions from the mosaic spread and in-plane domain size. A mosaic crystal or a film is built up by many cristallites (grains) with different tilt angles (δΩ). This is shown in **Fig. 2**. According to δΩ the crystallites can group in ensembles for which Bragg equation will be fulfilled. The rocking curve measurement is commonly used as a figure of merit to evaluate the mosaicity of a thin epitaxial film. The smaller the width of the peak, the better the individual crystallites are aligned and the larger their size.\n",
    "\n",
    "\n",
    "<div align=\"center\">\n",
    "<FIGURE> \n",
    "   <img src=\"images/hrxrd_mosaic.png\" />\n",
    "    <br/><br/>\n",
    "   <FIGCAPTION> <b>Fig. 2: </b> <i> X-ray diffraction for (a) ideal single crystal and (b) a mosaic crystal or film</i></FIGCAPTION>\n",
    "    \n",
    "</FIGURE>\n",
    "</div>"
   ]
  },
  {
   "cell_type": "code",
   "execution_count": null,
   "metadata": {},
   "outputs": [],
   "source": []
  },
  {
   "cell_type": "code",
   "execution_count": null,
   "metadata": {},
   "outputs": [],
   "source": []
  },
  {
   "cell_type": "code",
   "execution_count": null,
   "metadata": {},
   "outputs": [],
   "source": []
  },
  {
   "cell_type": "code",
   "execution_count": null,
   "metadata": {},
   "outputs": [],
   "source": []
  }
 ],
 "metadata": {
  "kernelspec": {
   "display_name": "Python 3",
   "language": "python",
   "name": "python3"
  },
  "language_info": {
   "codemirror_mode": {
    "name": "ipython",
    "version": 3
   },
   "file_extension": ".py",
   "mimetype": "text/x-python",
   "name": "python",
   "nbconvert_exporter": "python",
   "pygments_lexer": "ipython3",
   "version": "3.6.5"
  }
 },
 "nbformat": 4,
 "nbformat_minor": 2
}
