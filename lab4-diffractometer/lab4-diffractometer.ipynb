{
 "cells": [
  {
   "cell_type": "markdown",
   "id": "downtown-bundle",
   "metadata": {},
   "source": [
    "&copy; Bedzyk Research Group 2020, Northwestern University\n",
    "<br>**Last Updated**: 2021-01-28\n",
    "<br>**Updated By**: Norman Luu"
   ]
  },
  {
   "cell_type": "markdown",
   "id": "former-deadline",
   "metadata": {},
   "source": [
    "<div class=\"alert alert-block alert-warning\">\n",
    "To start this project, in the top menu bar click $\\text{Cell}\\to \\text{ Run All}$. Then, scroll back up to the top of this document.\n",
    "</div>"
   ]
  },
  {
   "cell_type": "code",
   "execution_count": null,
   "id": "corporate-survey",
   "metadata": {},
   "outputs": [],
   "source": []
  },
  {
   "cell_type": "code",
   "execution_count": null,
   "id": "understanding-frontier",
   "metadata": {},
   "outputs": [],
   "source": []
  },
  {
   "cell_type": "markdown",
   "id": "relevant-nursing",
   "metadata": {},
   "source": [
    "<div align=\"center\"><br>\n",
    "<font size=\"12\" color=\"#990000\"><b> Lab 4: X-ray Diffractometer </b></font>\n",
    "</div>\n",
    "\n",
    "*Reading: Cullity and Stock Ch 1 all; sec. 3-1 through 3-3; 6-1, 6-2, 6-7, 6-9, 6-11, and p. 201-202.\n",
    "\n",
    "\n",
    "## Lab Summary \n",
    "Labs IV and V examine the principle of operation of the X-ray Diffractometer system. Note that both labs will be combined into one report. \n",
    "\n",
    "This week you will investigate the details of: \n",
    "1. the X-ray spectrum emitted from the X-ray tube, and\n",
    "2. the absorption of X-rays by materials. \n"
   ]
  },
  {
   "cell_type": "markdown",
   "id": "solid-missile",
   "metadata": {},
   "source": [
    "## Experimental Procedure. \n",
    "With your instructor’s assistance and X-rays off: \n",
    "1. Inspect the X-ray generator and X-ray safety shutter operation to be certain how they work together with the indicator lights. \n",
    "2. The instrument is equipped with a Cu anode X-ray source. Note the X-ray collimating system, which contains:\n",
    "    * The incident beam slit: Divergence Slit (DS)\n",
    "    * The scattered beam slits: Receiving Slit (RS) and Scatter Slit (SS) \n",
    "    These slits are used to define the incident and scattered beam directions $\\vec{S_o}$ and $\\vec{S}$.\n",
    "3. Note the Specular Reflection geometry of the diffractometer with the sample axis $\\theta$ and detector axis $2\\theta$ as they change simultaneously. \n",
    "\n",
    "The X-ray detector is a scintillation type and uses an electronic device called a Pulse Height Analyzer (PHA). We will need to re-adjust the PHA for this week’s lab. Record the initial PHA settings: Baseline (BL) and Window (W) voltages. The instructor will provide the new values. \n",
    "\n"
   ]
  },
  {
   "cell_type": "markdown",
   "id": "built-armor",
   "metadata": {},
   "source": [
    "### Part A. X-ray Tube Emission Spectrum. \n",
    "Energize the X-ray tube to **-20kV** and the lowest x-ray tube current current. \n",
    "\n",
    "X-rays will irradiate a LiF (100) single crystal that acts like a diffraction grating scattering X-rays. LiF has the FCC NaCl crystal structure. \n",
    "\n",
    "Scan $2\\theta$ from $15$° to $50$° (*see Appendix L4A1*). \n",
    "Ignoring the absorption effects of: \n",
    "1. the X-ray tube Be window, \n",
    "2. the detector Be window\n",
    "3. air\n",
    "4. the Al absorber foil, you have recorded the emission spectrum of the Cu anode X-ray tube. \n",
    "\n",
    "Note that the most intense peak in the spectrum is from the Cu $K\\alpha_1$ emission line, $\\lambda = 1.54056 Å$. You will now determine a more precise $2\\theta$ position for the line by scanning with a smaller step size, L4A2. Now having an accurate value for the Cu $K\\alpha_1$ position, precisely calculate the value for LiF $d_{200}$. For your report, using Bragg’s Law and $d_{200}$ of LiF, calculate $\\lambda$ for all the notable lines and features present in the spectrum i.e. the Bremsstrahlung radiation, short wavelength limit (SWL), and all observed emission lines. Identify the element(s) responsible for each noted emission line, see Cullity Appendix 7. \n",
    "\n",
    "Hint: What impurity metal is present inside the X-ray tube?\n",
    "\n",
    "Also include in your report, the comparison between your measured $\\lambda_{SWL}$ wavelength and the calculated value using the X-ray tube operating voltage (kV). "
   ]
  },
  {
   "cell_type": "markdown",
   "id": "dense-walter",
   "metadata": {},
   "source": [
    "### Part B. Scattering from LiF (400). \n",
    "Calculate the $2\\theta$ position for the LiF (004) Cu $K\\alpha_1$ line. Scan $2\\theta$ from $99$° to $101$° (L4B) to determine the exact angles for Cu $K\\alpha_1$ and Cu $K\\alpha_2$ wavelengths. Compare measured and calculated positions. "
   ]
  },
  {
   "cell_type": "markdown",
   "id": "coral-memphis",
   "metadata": {},
   "source": [
    "### Part C. Absorption of X-rays by Al. \n",
    "Move the detector to the Cu $K\\alpha_1$ line. Use the Ratemeter to count the X-ray intensity for ten one-second measurements, average these values ($I_o$), and record. \n",
    "CLOSE THE SHUTTER, insert two sheets of Al foil in front of the detector, open the shutter and average 10 more one-second measurements. \n",
    "Repeat, adding two foils at a time until $I = 0.1I_o$.\n",
    "\n",
    "For your report, plot $ln(I)$ vs. $n$, where $n$ is the number of foils used.\n",
    "\n",
    "If the detector response is linear, this relationship will be a straight line. From the slope of this line you can calculate the absorption coefficient $μ$. \n",
    "\n",
    "Calculate the Al foil thickness given:\n",
    "* Density of Al: 2.70 g/cm<sup>3</sup>\n",
    "* 100 cm<sup>2</sup> of foil = 0.442 g\n",
    "\n",
    "Compare your value of $\\mu$ to that found in the *International Tables for X-ray Crystallography* (SEL). \n"
   ]
  },
  {
   "cell_type": "markdown",
   "id": "cardiovascular-variance",
   "metadata": {},
   "source": [
    "### Part D. Absorption of X-rays by Ni. \n",
    "Insert the Ni filter. Scan $2\\theta$ from $39$° to $46$ to include the Cu $K\\alpha$ and the Cu $K\\beta$ emission lines (L4D). Note the differences in the spectrum, especially the relative intensities of the $K\\alpha$ and $K\\beta$ lines by comparing to L4A1. Re-plot the region between the $K\\alpha$ and $K\\beta$ peaks to experimentally locate the K absorption edge of Ni. \n",
    "\n",
    "For your report, calculate the thickness of the Ni filter using the data from the Cu $K\\beta$ absorption. You will need to look up the $\\mu/\\rho$ and $\\rho$ values for Ni. \n",
    "\n",
    "Calculate the wavelength of the Ni K absorption edge and compare this to the value in the International Tables. Close the shutter, turn off the X-rays, and return the PHA to the original settings. \n"
   ]
  },
  {
   "cell_type": "markdown",
   "id": "defensive-antarctica",
   "metadata": {},
   "source": [
    "## Lab Summary\n",
    "This week you will study the details of the X-ray detector system. You will: 1) perform measurements to determine the energy resolution of either the NaI scintillation detector 2) select filters and adjust the PHA to produce a monochromatic X-ray beam from the polychromatic X-ray source suitable for Powder X-ray Diffraction (PXRD) experiments. \n",
    "\n",
    "### Part A. Energy resolution of the detector. \n",
    "When a single X-ray photon enters the detector, it produces a voltage pulse whose amplitude (in volts) is linearly proportional to the X-ray energy. However, there is a limit (resolution) where a small change in $\\lambda$ produces no change in voltage. \n",
    "\n",
    "**Procedure**: Set slits and the X-ray tube power to that used last week. \n",
    "1. Scan the LiF (200) crystal (L5) to locate the Cu $K\\alpha_1$ emission line and move the detector to the position. \n",
    "2. Open the shutter so X-rays from the $K\\alpha_1$ emission line enter the detector. (Note: $\\Delta\\lambda/\\lambda$ ~ 0.1%)\n",
    "3. Adjust the PHA: \n",
    "    * Baseline = 0.4V, \n",
    "    * Window = 0.2V. \n",
    "    * Lock the Window setting; it must remain constant throughout the entire measurement. \n",
    "4. Count X-rays for 10s and make a table with columns for: \n",
    "    * Intensity (counts)\n",
    "    * $V_{detector \\text{ } output} = V_{Baseline} + 0.5 V_{Window}$\n",
    "5. Increase the $V_{BL}$ by 0.5V and repeat step 3. \n",
    "6. Keep repeating until the upper limit of $V_{BL}$ is reached. \n",
    "7. Collect additional data around the maxima by stepping $V_{BL}$ at 0.2V intervals. \n",
    "\n",
    "For your report, plot the detector differential voltage curve $I$ vs. $V_{detector}$. \n",
    "Measuring the Full Width Half Maximum (FWHM) of the curve yields the resolution: \n",
    "\n",
    "Resolution % = 100 x FWHM Vdet (at maxima) \n",
    "\n",
    "Also plot, I vs. l (Å) and I vs. E (keV) note that: DV/V = Dl/l = DE/E To plot I vs. E: E (keV) = (VBL+0.1V) x 8.05 keV Vdet (at maxima) To plot I vs. l: l (Å) = 12.4 E (keV) You have now calibrated the PHA for Energy (keV), Wavelength (Å), and Voltage (V). Part B. Adjusting the PHA for a 90% Window. The PHA can be adjusted to prevent the scattering from unwanted wavelengths from being recorded in an X-ray pattern. That is desirable in kinematic scattering experiments like PXRD. Also, to keep the intensity high, you will set a “90% window” as it allows 90% of the intensity to pass to the counter and rejects 10%. Procedure: Open the shutter to allow Cu Ka1 radiation to enter the detector. 1) Set VBL = 0.5V and VW = 5.0V. 2) Count X-rays for 10s Note this is the 100% integrated intensity under the differential curve: I vs. Vdet 3) Increase VBL until I0 is reduced by 5%, record VBL 4) Without changing VBL, decrease VW to reduce I by another 5%, record VW You have now set the PHA to pass 90% of the intensity. Consequently, x-rays whose energy is lower than VBL or higher than (VBL+VW) will be rejected and not be counted. For your report, on the three plots: I vs. E, I vs. V, I vs. l, indicate the positions of: 1) Cu Ka1 2) Cu Kb 3)VBL 4) VBL+VW. For your report answer the following questions: With the PHA set to pass 90% of the Cu Ka1: 1) What range of wavelengths are: i) passed and ii) eliminated by the 90% window? 2) What energies are: i) passed and ii) eliminated? 3) Is Cu Kb eliminated by the 90% window? Part C. Powder X-ray Diffraction (PXRD). With instructor's assistance, replace the LiF single crystal with a polycrystalline LiF sample. Scan the sample with the same conditions as L5, (L5C1). Note the difference. With your instructor's assistance, remove Al absorber, increase the tube power, and change slits to increase the diffracted intensity. Scan 2q from 35o to 70o (L5C2). For your report, 1) discuss why the intensity is lower (L5C1) 2) identify all the diffraction peaks present in L5C2 Part D. Determining the best condition for PXRD: For a PXRD experiment, you want to have monochromatic radiation in order to simplify interpretation of the diffraction pattern. You also would like high peak intensities and a low background. We will investigate various combinations of PHA settings and the Ni filter to determine the optimum conditions for recording a diffraction pattern. The best condition will result with a high-diffracted intensity (Ip) for only one wavelength l and a low background level (Ib). Note: Do not use the Jade peak finder. 1. Set the PHA, BL = 0.5V, W= 5.0V, and scan the Kß and Ka peaks for LiF (200) (L5D1). 2. Close the shutter, insert the Ni filter and scan the same region (L5D2). 3. Set the PHA for a 90% window determined in Part B. Scan again (L5D3). 4. Close the shutter, remove the Ni filter and scan again. (L5D4). For your report, calculate (Ip-Ib) and (Ip-Ib)/Ib for the Ka peak for each of the four conditions. Also calculate for N = (Ip-Ib) and the ratio (Ip)Ka/(Ip)Kb in each case. This data should be presented in a table. The best condition is a large value of (Ip-Ib)/Ib for Ka, subject to a small s for (Ip-Ib) and a relatively small Kb peak. In other words, we want a large peak-to-background ratio and a high intensity for only one peak (we cannot eliminate the Ka2 radiation.) Report which combination of filter and PHA settings produce the best powder diffraction pattern. Comment about how each of those affects the pattern. APPENDIX 1 You must consider the data collection step size and counting time when collecting \"peak\" data as in a spectral analysis like L4A1, A2, B, and D or in x-ray scattering patterns in general. This is to obtain a good peak shape. 1) The counter step size must by adjusted so as to get approximately 10 points on a peak. This is done to get a good shape profile of the feature. If the step size is too large, you will get misinformation on the feature's shape and position. 2) The counting time must be adjusted to control the x-ray counting statistics. If the detector is positioned at one data point and you collect a low number of counts, there is a significant variation in the number of counts for repeated measurements. Often users incorrectly call this \"noise\" when in fact it is caused by the fact that x-ray are produced as random events in the x-ray tube. So you will check your scans, and adjust these parameters as necessary. "
   ]
  },
  {
   "cell_type": "code",
   "execution_count": null,
   "id": "sophisticated-parking",
   "metadata": {},
   "outputs": [],
   "source": []
  },
  {
   "cell_type": "code",
   "execution_count": null,
   "id": "attended-sucking",
   "metadata": {},
   "outputs": [],
   "source": []
  },
  {
   "cell_type": "code",
   "execution_count": null,
   "id": "engaged-experience",
   "metadata": {},
   "outputs": [],
   "source": []
  },
  {
   "cell_type": "code",
   "execution_count": null,
   "id": "conservative-smell",
   "metadata": {},
   "outputs": [],
   "source": []
  },
  {
   "cell_type": "code",
   "execution_count": null,
   "id": "attractive-hostel",
   "metadata": {},
   "outputs": [],
   "source": []
  },
  {
   "cell_type": "code",
   "execution_count": null,
   "id": "portuguese-music",
   "metadata": {},
   "outputs": [],
   "source": []
  },
  {
   "cell_type": "code",
   "execution_count": null,
   "id": "entertaining-priest",
   "metadata": {},
   "outputs": [],
   "source": []
  },
  {
   "cell_type": "markdown",
   "id": "silent-charter",
   "metadata": {},
   "source": [
    "## APPENDIX 1 \n",
    "\n",
    "You must consider the data collection step size and counting time when collecting \"peak\" data as in a spectral analysis like L4A1, A2, B, and D or in general x-ray scattering measurements. This is done to obtain a good peak shape and peak location; adjust parameters in 1 & 2 below as necessary \n",
    "1. The counter step size must by adjusted so as to get approximately 10 points on a peak. This is done to get a good shape profile of the feature. If the step size is too large, you will get misinformation on the feature's shape and position. \n",
    "2. The counting time must be adjusted to control the x-ray counting statistics. If the detector is positioned at one data point and you collect a low number of counts, there is a significant variation in the number of counts for repeated measurements. Often users incorrectly call this \"noise\" when in fact it is caused by the fact that x-ray are produced as random events in the x-ray tube.  \n"
   ]
  },
  {
   "cell_type": "markdown",
   "id": "french-deployment",
   "metadata": {},
   "source": [
    "## APPENDIX 2"
   ]
  },
  {
   "cell_type": "code",
   "execution_count": 3,
   "id": "wound-seventh",
   "metadata": {},
   "outputs": [
    {
     "data": {
      "text/html": [
       "<div>\n",
       "<style scoped>\n",
       "    .dataframe tbody tr th:only-of-type {\n",
       "        vertical-align: middle;\n",
       "    }\n",
       "\n",
       "    .dataframe tbody tr th {\n",
       "        vertical-align: top;\n",
       "    }\n",
       "\n",
       "    .dataframe thead th {\n",
       "        text-align: right;\n",
       "    }\n",
       "</style>\n",
       "<table border=\"1\" class=\"dataframe\">\n",
       "  <thead>\n",
       "    <tr style=\"text-align: right;\">\n",
       "      <th></th>\n",
       "      <th>File Name</th>\n",
       "      <th>Start (2θ°)</th>\n",
       "      <th>Stop (2θ°)</th>\n",
       "      <th>Step Size (2θ°)</th>\n",
       "      <th>Dwell(s)</th>\n",
       "      <th>Axis</th>\n",
       "    </tr>\n",
       "  </thead>\n",
       "  <tbody>\n",
       "    <tr>\n",
       "      <th>0</th>\n",
       "      <td>L4A1</td>\n",
       "      <td>15.0</td>\n",
       "      <td>50.0</td>\n",
       "      <td>0.05</td>\n",
       "      <td>1</td>\n",
       "      <td>θ/2θ</td>\n",
       "    </tr>\n",
       "    <tr>\n",
       "      <th>1</th>\n",
       "      <td>L4A2</td>\n",
       "      <td>44.5</td>\n",
       "      <td>45.5</td>\n",
       "      <td>0.02</td>\n",
       "      <td>1</td>\n",
       "      <td>θ/2θ</td>\n",
       "    </tr>\n",
       "    <tr>\n",
       "      <th>2</th>\n",
       "      <td>L4B</td>\n",
       "      <td>99.0</td>\n",
       "      <td>101.0</td>\n",
       "      <td>0.02</td>\n",
       "      <td>1</td>\n",
       "      <td>θ/2θ</td>\n",
       "    </tr>\n",
       "    <tr>\n",
       "      <th>3</th>\n",
       "      <td>L4D</td>\n",
       "      <td>39.0</td>\n",
       "      <td>46.0</td>\n",
       "      <td>0.05</td>\n",
       "      <td>1</td>\n",
       "      <td>θ/2θ</td>\n",
       "    </tr>\n",
       "  </tbody>\n",
       "</table>\n",
       "</div>"
      ],
      "text/plain": [
       "  File Name   Start (2θ°)   Stop (2θ°)   Step Size (2θ°)   Dwell(s)   Axis\n",
       "0      L4A1          15.0         50.0              0.05          1   θ/2θ\n",
       "1      L4A2          44.5         45.5              0.02          1   θ/2θ\n",
       "2       L4B          99.0        101.0              0.02          1   θ/2θ\n",
       "3       L4D          39.0         46.0              0.05          1   θ/2θ"
      ]
     },
     "execution_count": 3,
     "metadata": {},
     "output_type": "execute_result"
    }
   ],
   "source": [
    "import pandas as pd\n",
    "data = pd.read_csv('resources/lab4-appendix2.txt',sep=\";\")\n",
    "data"
   ]
  },
  {
   "cell_type": "code",
   "execution_count": null,
   "id": "ongoing-globe",
   "metadata": {},
   "outputs": [],
   "source": []
  },
  {
   "cell_type": "markdown",
   "id": "common-conclusion",
   "metadata": {},
   "source": []
  }
 ],
 "metadata": {
  "kernelspec": {
   "display_name": "Python 3",
   "language": "python",
   "name": "python3"
  },
  "language_info": {
   "codemirror_mode": {
    "name": "ipython",
    "version": 3
   },
   "file_extension": ".py",
   "mimetype": "text/x-python",
   "name": "python",
   "nbconvert_exporter": "python",
   "pygments_lexer": "ipython3",
   "version": "3.7.9"
  }
 },
 "nbformat": 4,
 "nbformat_minor": 5
}
